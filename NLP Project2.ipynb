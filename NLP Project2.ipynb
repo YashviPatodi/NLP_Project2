{
 "cells": [
  {
   "cell_type": "code",
   "execution_count": 4,
   "metadata": {},
   "outputs": [
    {
     "name": "stdout",
     "output_type": "stream",
     "text": [
      "Author: Yashvi Patodi\n",
      "NLP Project-2\n",
      "Data Preprocessing and Transformation\n",
      "\n",
      "This repository contains a project dedicated to data preprocessing and transformation techniques applied to the 'airquality' dataset. The project focuses on several key areas:\n",
      "1. Efficient handling of missing values.\n",
      "2. Thorough exploration of the dataset’s structure.\n",
      "3. Execution of arithmetic and logical operations to ready the data for analysis.\n",
      "\n",
      "Core tasks include:\n",
      "- Removal of NA values in critical variables.\n",
      "- Creation of new categorical features.\n",
      "- Binning of continuous values into predefined intervals.\n",
      "\n"
     ]
    }
   ],
   "source": [
    "print(\"Author: Yashvi Patodi\\n\"\n",
    "      \"NLP Project-2\\n\"\n",
    "      \"Data Preprocessing and Transformation\\n\"\n",
    "      \"\\n\"\n",
    "      \"This repository contains a project dedicated to data preprocessing and transformation techniques \"\n",
    "      \"applied to the 'airquality' dataset. The project focuses on several key areas:\\n\"\n",
    "      \"1. Efficient handling of missing values.\\n\"\n",
    "      \"2. Thorough exploration of the dataset’s structure.\\n\"\n",
    "      \"3. Execution of arithmetic and logical operations to ready the data for analysis.\\n\\n\"\n",
    "      \"Core tasks include:\\n\"\n",
    "      \"- Removal of NA values in critical variables.\\n\"\n",
    "      \"- Creation of new categorical features.\\n\"\n",
    "      \"- Binning of continuous values into predefined intervals.\\n\")\n"
   ]
  },
  {
   "cell_type": "code",
   "execution_count": null,
   "metadata": {
    "colab": {
     "base_uri": "https://localhost:8080/"
    },
    "id": "UujoHr_8rIo1",
    "outputId": "ad95bdd7-0797-40e4-e508-da4fe1744f37"
   },
   "outputs": [
    {
     "name": "stdout",
     "output_type": "stream",
     "text": [
      "   Unnamed: 0  Ozone  Solar.R  Wind  Temp  Month  Day\n",
      "0           1   41.0    190.0   7.4    67      5    1\n",
      "1           2   36.0    118.0   8.0    72      5    2\n",
      "2           3   12.0    149.0  12.6    74      5    3\n",
      "3           4   18.0    313.0  11.5    62      5    4\n",
      "4           5    NaN      NaN  14.3    56      5    5\n"
     ]
    }
   ],
   "source": [
    "import pandas as pd\n",
    "file_path='airquality.csv'\n",
    "air=pd.read_csv(file_path)\n",
    "print(air.head())"
   ]
  },
  {
   "cell_type": "code",
   "execution_count": null,
   "metadata": {
    "colab": {
     "base_uri": "https://localhost:8080/"
    },
    "id": "wMrqzZmfsY_k",
    "outputId": "04233d7d-b58f-40a5-e916-9c7f4a288aac"
   },
   "outputs": [
    {
     "name": "stdout",
     "output_type": "stream",
     "text": [
      "Mean of Ozone: 42.12931034482759\n",
      "Mode of Ozone: 0    23.0\n",
      "Name: Ozone, dtype: float64\n",
      "Median of Ozone: 31.5\n"
     ]
    }
   ],
   "source": [
    "ozone_mean= air['Ozone'].mean()\n",
    "print(\"Mean of Ozone:\",ozone_mean)\n",
    "ozone_mode= air['Ozone'].mode()\n",
    "print(\"Mode of Ozone:\",ozone_mode)\n",
    "ozone_median= air['Ozone'].median()\n",
    "print(\"Median of Ozone:\", ozone_median)"
   ]
  },
  {
   "cell_type": "code",
   "execution_count": null,
   "metadata": {
    "colab": {
     "base_uri": "https://localhost:8080/"
    },
    "id": "-O5bGH5juhK9",
    "outputId": "2fea4894-cf66-472e-8f1b-dc1e10c9174c"
   },
   "outputs": [
    {
     "name": "stdout",
     "output_type": "stream",
     "text": [
      "168.0\n",
      "1.0\n"
     ]
    }
   ],
   "source": [
    "max_ozone= air['Ozone'].max()\n",
    "print(max_ozone)\n",
    "\n",
    "min_ozone= air['Ozone'].min()\n",
    "print(min_ozone)"
   ]
  },
  {
   "cell_type": "code",
   "execution_count": null,
   "metadata": {
    "colab": {
     "base_uri": "https://localhost:8080/"
    },
    "id": "_2NNe54ruzFP",
    "outputId": "a0b0a6ef-348a-429f-e560-8c2154d7a653"
   },
   "outputs": [
    {
     "name": "stdout",
     "output_type": "stream",
     "text": [
      "334.0\n",
      "7.0\n"
     ]
    }
   ],
   "source": [
    "max_solar=air['Solar.R'].max()\n",
    "print(max_solar)\n",
    "\n",
    "min_solar=air['Solar.R'].min()\n",
    "print(min_solar)"
   ]
  },
  {
   "cell_type": "code",
   "execution_count": null,
   "metadata": {
    "colab": {
     "base_uri": "https://localhost:8080/"
    },
    "id": "nQ6lSrxZtSzy",
    "outputId": "3e9ac649-9802-4321-ea6e-22e8ac65d57c"
   },
   "outputs": [
    {
     "name": "stdout",
     "output_type": "stream",
     "text": [
      "Ozone- Standard Deviation: 32.98788451443395\n",
      "Solar.R- Standard Deviation: 90.05842222838167\n"
     ]
    }
   ],
   "source": [
    "ozone_std=air['Ozone'].std()\n",
    "ozone_median=air['Ozone'].median()\n",
    "solar_std=air['Solar.R'].std()\n",
    "solar_median=air['Solar.R'].median()\n",
    "print(\"Ozone- Standard Deviation:\", ozone_std)\n",
    "print(\"Solar.R- Standard Deviation:\", solar_std)\n"
   ]
  },
  {
   "cell_type": "code",
   "execution_count": null,
   "metadata": {
    "colab": {
     "base_uri": "https://localhost:8080/"
    },
    "id": "9NH6zHvGs_u3",
    "outputId": "2b241486-441b-4712-ff6a-7b28e02c7318"
   },
   "outputs": [
    {
     "name": "stdout",
     "output_type": "stream",
     "text": [
      "NA values in each column:\n",
      " Unnamed: 0     0\n",
      "Ozone         37\n",
      "Solar.R        7\n",
      "Wind           0\n",
      "Temp           0\n",
      "Month          0\n",
      "Day            0\n",
      "dtype: int64\n",
      "NA values in each column:\n",
      " Unnamed: 0    0\n",
      "Ozone         0\n",
      "Solar.R       5\n",
      "Wind          0\n",
      "Temp          0\n",
      "Month         0\n",
      "Day           0\n",
      "dtype: int64\n"
     ]
    }
   ],
   "source": [
    "na_values= air.isnull().sum()\n",
    "print(\"NA values in each column:\\n\", na_values)\n",
    "air_cleaned= air.dropna(subset=['Ozone'])\n",
    "na_values=air_cleaned.isnull().sum()\n",
    "print(\"NA values in each column:\\n\", na_values)"
   ]
  },
  {
   "cell_type": "code",
   "execution_count": null,
   "metadata": {
    "colab": {
     "base_uri": "https://localhost:8080/"
    },
    "id": "pIIZRgDQwKwo",
    "outputId": "dbb93b8d-c665-41b4-fb71-7511f1b50566"
   },
   "outputs": [
    {
     "name": "stdout",
     "output_type": "stream",
     "text": [
      "   Unnamed: 0  Ozone  Solar.R  Wind  Temp  Month  Day Solar.Danger\n",
      "0           1   41.0    190.0   7.4    67      5    1          Yes\n",
      "1           2   36.0    118.0   8.0    72      5    2          Yes\n",
      "2           3   12.0    149.0  12.6    74      5    3          Yes\n",
      "3           4   18.0    313.0  11.5    62      5    4          Yes\n",
      "4           5    NaN      NaN  14.3    56      5    5           No\n",
      "0\n",
      "   Unnamed: 0  Ozone     Solar.R  Wind  Temp  Month  Day Solar.Danger\n",
      "0           1   41.0  190.000000   7.4    67      5    1          Yes\n",
      "1           2   36.0  118.000000   8.0    72      5    2          Yes\n",
      "2           3   12.0  149.000000  12.6    74      5    3          Yes\n",
      "3           4   18.0  313.000000  11.5    62      5    4          Yes\n",
      "4           5    NaN  185.931507  14.3    56      5    5           No\n"
     ]
    }
   ],
   "source": [
    "print(air.head())\n",
    "ozone_mean= air['Solar.R'].mean()\n",
    "air['Solar.R'].fillna(ozone_mean, inplace=True)\n",
    "print(air['Solar.R'].isnull().sum())\n",
    "print(air.head())"
   ]
  },
  {
   "cell_type": "code",
   "execution_count": null,
   "metadata": {
    "colab": {
     "base_uri": "https://localhost:8080/"
    },
    "id": "orxB03RyU1Rc",
    "outputId": "1d4c1915-c9ba-4bd0-ef9d-08e72c4444ea"
   },
   "outputs": [
    {
     "name": "stdout",
     "output_type": "stream",
     "text": [
      "NA values in each column before cleaning:\n",
      " Unnamed: 0     0\n",
      "Ozone         37\n",
      "Solar.R        7\n",
      "Wind           0\n",
      "Temp           0\n",
      "Month          0\n",
      "Day            0\n",
      "dtype: int64\n",
      "\n",
      "NA values in each column after cleaning:\n",
      " Unnamed: 0     0\n",
      "Ozone         35\n",
      "Solar.R        0\n",
      "Wind           0\n",
      "Temp           0\n",
      "Month          0\n",
      "Day            0\n",
      "dtype: int64\n"
     ]
    }
   ],
   "source": [
    "import pandas as pd\n",
    "file_path='airquality.csv'\n",
    "air=pd.read_csv(file_path)\n",
    "na_values_before = air.isnull().sum()\n",
    "print(\"NA values in each column before cleaning:\\n\", na_values_before)\n",
    "air_cleaned = air.copy()\n",
    "for index, row in air.iterrows():\n",
    "    if pd.isnull(row['Solar.R']):\n",
    "        air_cleaned.drop(index, inplace=True)\n",
    "\n",
    "na_values_after = air_cleaned.isnull().sum()\n",
    "print(\"\\nNA values in each column after cleaning:\\n\", na_values_after)"
   ]
  },
  {
   "cell_type": "code",
   "execution_count": null,
   "metadata": {
    "colab": {
     "base_uri": "https://localhost:8080/"
    },
    "id": "_sU90-x_VAC-",
    "outputId": "fb1dd9e4-89dc-4393-b79a-df42c8b8a9fa"
   },
   "outputs": [
    {
     "name": "stdout",
     "output_type": "stream",
     "text": [
      "Summary statistics of the cleaned DataFrame:\n",
      "        Unnamed: 0       Ozone     Solar.R        Wind        Temp       Month  \\\n",
      "count  146.000000  111.000000  146.000000  146.000000  146.000000  146.000000   \n",
      "mean    78.363014   42.099099  185.931507   10.003425   78.116438    7.027397   \n",
      "std     43.935514   33.275969   90.058422    3.508795    9.224787    1.404157   \n",
      "min      1.000000    1.000000    7.000000    1.700000   57.000000    5.000000   \n",
      "25%     41.250000   18.000000  115.750000    7.400000   73.000000    6.000000   \n",
      "50%     77.500000   31.000000  205.000000    9.700000   79.000000    7.000000   \n",
      "75%    116.750000   62.000000  258.750000   11.500000   84.000000    8.000000   \n",
      "max    153.000000  168.000000  334.000000   20.700000   97.000000    9.000000   \n",
      "\n",
      "              Day  \n",
      "count  146.000000  \n",
      "mean    16.123288  \n",
      "std      8.794897  \n",
      "min      1.000000  \n",
      "25%      9.000000  \n",
      "50%     16.000000  \n",
      "75%     23.750000  \n",
      "max     31.000000  \n"
     ]
    }
   ],
   "source": [
    "summary = air_cleaned.describe(include='all')\n",
    "print(\"Summary statistics of the cleaned DataFrame:\\n\", summary)"
   ]
  },
  {
   "cell_type": "code",
   "execution_count": null,
   "metadata": {
    "colab": {
     "base_uri": "https://localhost:8080/"
    },
    "id": "msIF8aqGVDc2",
    "outputId": "6269fa46-d0d3-451e-95b6-24ce2b32a325"
   },
   "outputs": [
    {
     "name": "stdout",
     "output_type": "stream",
     "text": [
      "First 5 observations of the cleaned DataFrame:\n",
      "    Unnamed: 0  Ozone  Solar.R  Wind  Temp  Month  Day\n",
      "0           1   41.0    190.0   7.4    67      5    1\n",
      "1           2   36.0    118.0   8.0    72      5    2\n",
      "2           3   12.0    149.0  12.6    74      5    3\n",
      "3           4   18.0    313.0  11.5    62      5    4\n",
      "6           7   23.0    299.0   8.6    65      5    7\n"
     ]
    }
   ],
   "source": [
    "head_observations = air_cleaned.head()\n",
    "print(\"First 5 observations of the cleaned DataFrame:\\n\", head_observations)"
   ]
  },
  {
   "cell_type": "code",
   "execution_count": null,
   "metadata": {
    "id": "2XresI8_xb22"
   },
   "outputs": [],
   "source": [
    "print(air.head())\n",
    "ozone_median= air['Solar.R'].median()\n",
    "air['Solar.R'].fillna(ozone_median, inplace=True)\n",
    "print(air['Solar.R'].isnull().sum())\n",
    "print(air.head())"
   ]
  },
  {
   "cell_type": "code",
   "execution_count": null,
   "metadata": {
    "colab": {
     "base_uri": "https://localhost:8080/"
    },
    "id": "PndJT4yhyQN9",
    "outputId": "965ffec0-dffc-48bd-bfb7-3647fd9834f8"
   },
   "outputs": [
    {
     "name": "stdout",
     "output_type": "stream",
     "text": [
      "   Unnamed: 0  Ozone  Solar.R  Wind  Temp  Month  Day\n",
      "0           1   41.0    190.0   7.4    67      5    1\n",
      "1           2   36.0    118.0   8.0    72      5    2\n",
      "2           3   12.0    149.0  12.6    74      5    3\n",
      "3           4   18.0    313.0  11.5    62      5    4\n",
      "4           5    NaN      NaN  14.3    56      5    5\n",
      "0\n",
      "   Unnamed: 0  Ozone  Solar.R  Wind  Temp  Month  Day\n",
      "0           1   41.0    190.0   7.4    67      5    1\n",
      "1           2   36.0    118.0   8.0    72      5    2\n",
      "2           3   12.0    149.0  12.6    74      5    3\n",
      "3           4   18.0    313.0  11.5    62      5    4\n",
      "4           5    NaN    238.0  14.3    56      5    5\n"
     ]
    }
   ],
   "source": [
    "print(air.head())\n",
    "ozone_mode= air['Solar.R'].mode()[0]\n",
    "air['Solar.R'].fillna(ozone_mode, inplace=True)\n",
    "print(air['Solar.R'].isnull().sum())\n",
    "print(air.head())"
   ]
  },
  {
   "cell_type": "code",
   "execution_count": null,
   "metadata": {
    "colab": {
     "base_uri": "https://localhost:8080/"
    },
    "id": "3foookkNzOdB",
    "outputId": "7973e63d-383a-4a3a-9c54-178e725cb127"
   },
   "outputs": [
    {
     "name": "stdout",
     "output_type": "stream",
     "text": [
      "   Unnamed: 0  Ozone  Solar.R  Wind  Temp  Month  Day Solar.Danger\n",
      "0           1   41.0    190.0   7.4    67      5    1          Yes\n",
      "1           2   36.0    118.0   8.0    72      5    2          Yes\n",
      "2           3   12.0    149.0  12.6    74      5    3          Yes\n",
      "3           4   18.0    313.0  11.5    62      5    4          Yes\n",
      "4           5    NaN      NaN  14.3    56      5    5           No\n"
     ]
    }
   ],
   "source": [
    "air['Solar.Danger']= air['Solar.R'].apply(lambda x: 'Yes' if x>100 else'No')\n",
    "print(air.head())"
   ]
  },
  {
   "cell_type": "code",
   "execution_count": null,
   "metadata": {
    "colab": {
     "base_uri": "https://localhost:8080/"
    },
    "id": "XwjKcnJd0yF_",
    "outputId": "48604d78-46b4-4eb2-cfb4-4dad74de76b0"
   },
   "outputs": [
    {
     "name": "stdout",
     "output_type": "stream",
     "text": [
      "   Unnamed: 0  Ozone  Solar.R  Wind  Temp  Month  Day Solar.Danger  \\\n",
      "0           1   41.0    190.0   7.4    67      5    1          Yes   \n",
      "1           2   36.0    118.0   8.0    72      5    2           No   \n",
      "2           3   12.0    149.0  12.6    74      5    3           No   \n",
      "3           4   18.0    313.0  11.5    62      5    4          Yes   \n",
      "4           5    NaN    238.0  14.3    56      5    5          Yes   \n",
      "\n",
      "  Solar.R.Interval  \n",
      "0          150-200  \n",
      "1          100-150  \n",
      "2          100-150  \n",
      "3          300-350  \n",
      "4          200-250  \n"
     ]
    }
   ],
   "source": [
    "bins=[0,50,100,150,200,250,300,350]\n",
    "labels= ['0-50', '50-100', '100-150', '150-200', '200-250', '250-300', '300-350']\n",
    "air['Solar.R.Interval']= pd.cut(air['Solar.R'], bins=bins, labels=labels, include_lowest=True)\n",
    "print(air.head())"
   ]
  },
  {
   "cell_type": "code",
   "execution_count": null,
   "metadata": {
    "colab": {
     "base_uri": "https://localhost:8080/"
    },
    "id": "OTzO7HUK2FiD",
    "outputId": "8f0adff9-b63c-44c4-e0da-2b10d7de338c"
   },
   "outputs": [
    {
     "name": "stdout",
     "output_type": "stream",
     "text": [
      "   Unnamed: 0  Ozone  Solar.R  Wind  Temp Month  Day Solar.Danger  \\\n",
      "0           1   41.0    190.0   7.4    67   May    1          Yes   \n",
      "1           2   36.0    118.0   8.0    72   May    2           No   \n",
      "2           3   12.0    149.0  12.6    74   May    3           No   \n",
      "3           4   18.0    313.0  11.5    62   May    4          Yes   \n",
      "4           5    NaN    238.0  14.3    56   May    5          Yes   \n",
      "\n",
      "  Solar.R.Interval  \n",
      "0          150-200  \n",
      "1          100-150  \n",
      "2          100-150  \n",
      "3          300-350  \n",
      "4          200-250  \n"
     ]
    }
   ],
   "source": [
    "month_mapping= {5:'May', 6:'June', 7:'July', 8:'August', 9:'September'}\n",
    "air['Month']= air['Month'].map(month_mapping)\n",
    "print(air.head())"
   ]
  },
  {
   "cell_type": "code",
   "execution_count": null,
   "metadata": {
    "colab": {
     "base_uri": "https://localhost:8080/"
    },
    "id": "elPOLulg4avU",
    "outputId": "b643f4f2-f74f-4f20-daf0-a06f5020698c"
   },
   "outputs": [
    {
     "name": "stdout",
     "output_type": "stream",
     "text": [
      "   Unnamed: 0  Ozone  Solar.R  Wind  Temp Month  Day Solar.Danger  \\\n",
      "0           1   41.0    190.0   7.4    67   May    1          Yes   \n",
      "1           2   36.0    118.0   8.0    72   May    2           No   \n",
      "2           3   12.0    149.0  12.6    74   May    3           No   \n",
      "3           4   18.0    313.0  11.5    62   May    4          Yes   \n",
      "4           5    NaN    238.0  14.3    56   May    5          Yes   \n",
      "\n",
      "  Solar.R.Interval  \n",
      "0          150-200  \n",
      "1          100-150  \n",
      "2          100-150  \n",
      "3          300-350  \n",
      "4          200-250  \n"
     ]
    }
   ],
   "source": [
    "air_loop =air.copy()\n",
    "for index, row in air_loop.iterrows():\n",
    "  air_loop.at[index,'Month']= month_mapping.get(row['Month'], row['Month'])\n",
    "print(air_loop.head())"
   ]
  },
  {
   "cell_type": "code",
   "execution_count": null,
   "metadata": {
    "colab": {
     "base_uri": "https://localhost:8080/"
    },
    "id": "8Cnaew6P6kVH",
    "outputId": "ee5499cc-aa35-4ceb-b4a0-08d267541143"
   },
   "outputs": [
    {
     "name": "stdout",
     "output_type": "stream",
     "text": [
      "Number of duplicate rows: 0\n",
      "Number of rows after removing duplicates: 153\n"
     ]
    }
   ],
   "source": [
    "air_no_duplicates= air.drop_duplicates()\n",
    "print(\"Number of duplicate rows:\", air.duplicated().sum())\n",
    "print(\"Number of rows after removing duplicates:\", len(air_no_duplicates))"
   ]
  },
  {
   "cell_type": "code",
   "execution_count": null,
   "metadata": {
    "colab": {
     "base_uri": "https://localhost:8080/"
    },
    "id": "9RyJQvpU7ema",
    "outputId": "cd2b6eb5-eec7-4b3e-ccad-aea73ae6ce30"
   },
   "outputs": [
    {
     "name": "stdout",
     "output_type": "stream",
     "text": [
      "   Unnamed: 0  Ozone  Solar.R  Wind  Temp Month  Day Solar.Danger  \\\n",
      "0           1   41.0    190.0   7.4    67   May    1          Yes   \n",
      "1           2   36.0    118.0   8.0    72   May    2           No   \n",
      "2           3   12.0    149.0  12.6    74   May    3           No   \n",
      "3           4   18.0    313.0  11.5    62   May    4          Yes   \n",
      "4           5    NaN    238.0  14.3    56   May    5          Yes   \n",
      "\n",
      "  Solar.R.Interval  \n",
      "0          150-200  \n",
      "1          100-150  \n",
      "2          100-150  \n",
      "3          300-350  \n",
      "4          200-250  \n",
      "Unnamed: 0             int64\n",
      "Ozone                float64\n",
      "Solar.R              float64\n",
      "Wind                 float64\n",
      "Temp                   int64\n",
      "Month                 object\n",
      "Day                    int64\n",
      "Solar.Danger          object\n",
      "Solar.R.Interval    category\n",
      "dtype: object\n",
      "Unnamed: 0             int64\n",
      "Ozone                float64\n",
      "Solar.R              float64\n",
      "Wind                   int64\n",
      "Temp                   int64\n",
      "Month                 object\n",
      "Day                    int64\n",
      "Solar.Danger          object\n",
      "Solar.R.Interval    category\n",
      "dtype: object\n",
      "   Unnamed: 0  Ozone  Solar.R  Wind  Temp Month  Day Solar.Danger  \\\n",
      "0           1   41.0    190.0     7    67   May    1          Yes   \n",
      "1           2   36.0    118.0     8    72   May    2           No   \n",
      "2           3   12.0    149.0    12    74   May    3           No   \n",
      "3           4   18.0    313.0    11    62   May    4          Yes   \n",
      "4           5    NaN    238.0    14    56   May    5          Yes   \n",
      "\n",
      "  Solar.R.Interval  \n",
      "0          150-200  \n",
      "1          100-150  \n",
      "2          100-150  \n",
      "3          300-350  \n",
      "4          200-250  \n"
     ]
    }
   ],
   "source": [
    "print(air.head())\n",
    "print(air.dtypes)\n",
    "air['Wind']= air['Wind'].astype(int)\n",
    "print(air.dtypes)\n",
    "print(air.head())"
   ]
  },
  {
   "cell_type": "code",
   "execution_count": null,
   "metadata": {
    "colab": {
     "background_save": true,
     "base_uri": "https://localhost:8080/"
    },
    "id": "nDQWN-iC9XOF",
    "outputId": "c3d24e8b-7d14-488b-f343-60225b964299"
   },
   "outputs": [
    {
     "name": "stdout",
     "output_type": "stream",
     "text": [
      "Requirement already satisfied: scikit-learn in /usr/local/lib/python3.10/dist-packages (1.3.2)\n",
      "Requirement already satisfied: numpy<2.0,>=1.17.3 in /usr/local/lib/python3.10/dist-packages (from scikit-learn) (1.26.4)\n",
      "Requirement already satisfied: scipy>=1.5.0 in /usr/local/lib/python3.10/dist-packages (from scikit-learn) (1.13.1)\n",
      "Requirement already satisfied: joblib>=1.1.1 in /usr/local/lib/python3.10/dist-packages (from scikit-learn) (1.4.2)\n",
      "Requirement already satisfied: threadpoolctl>=2.0.0 in /usr/local/lib/python3.10/dist-packages (from scikit-learn) (3.5.0)\n"
     ]
    }
   ],
   "source": [
    "pip install scikit-learn"
   ]
  },
  {
   "cell_type": "code",
   "execution_count": null,
   "metadata": {
    "colab": {
     "background_save": true,
     "base_uri": "https://localhost:8080/"
    },
    "id": "IxTdRb-L8WvH",
    "outputId": "aaae3d95-a0c7-4670-e09f-ed19f426a2e2"
   },
   "outputs": [
    {
     "name": "stdout",
     "output_type": "stream",
     "text": [
      "   Ozone  Solar.R\n",
      "0   41.0    190.0\n",
      "1   36.0    118.0\n",
      "2   12.0    149.0\n",
      "3   18.0    313.0\n",
      "4    NaN    238.0\n",
      "      Ozone   Solar.R\n",
      "0  0.239521  0.559633\n",
      "1  0.209581  0.339450\n",
      "2  0.065868  0.434251\n",
      "3  0.101796  0.935780\n",
      "4       NaN  0.706422\n"
     ]
    }
   ],
   "source": [
    "from sklearn.preprocessing import MinMaxScaler\n",
    "print(air[['Ozone', 'Solar.R']].head())\n",
    "scaler= MinMaxScaler()\n",
    "air[['Ozone', 'Solar.R']]= scaler.fit_transform(air[['Ozone', 'Solar.R']])\n",
    "print(air[['Ozone', 'Solar.R']].head())"
   ]
  },
  {
   "cell_type": "code",
   "execution_count": null,
   "metadata": {
    "colab": {
     "background_save": true,
     "base_uri": "https://localhost:8080/"
    },
    "id": "IGwj2bDG_uzN",
    "outputId": "e8a88750-405b-4d58-beea-50c157276e16"
   },
   "outputs": [
    {
     "name": "stdout",
     "output_type": "stream",
     "text": [
      "['May' 'June' 'July' 'August' 'September']\n",
      "['May' 'June' 'July' 'August' 'September']\n"
     ]
    }
   ],
   "source": [
    "print(air['Month'].unique())\n",
    "air['Month']= air['Month'].str.capitalize()\n",
    "\n",
    "print(air['Month'].unique())"
   ]
  },
  {
   "cell_type": "code",
   "execution_count": null,
   "metadata": {
    "colab": {
     "background_save": true,
     "base_uri": "https://localhost:8080/"
    },
    "id": "TRQy5nVBAU_t",
    "outputId": "7e69eec9-bf1a-4d25-886c-d5a4e9bd29c1"
   },
   "outputs": [
    {
     "name": "stdout",
     "output_type": "stream",
     "text": [
      "Index(['Unnamed: 0', 'Ozone', 'Solar.R', 'Wind', 'Month', 'Day',\n",
      "       'Solar.Danger', 'Solar.R.Interval'],\n",
      "      dtype='object')\n"
     ]
    }
   ],
   "source": [
    "air_cleaned= air.drop(['Temp'], axis=1)\n",
    "print(air_cleaned.columns)"
   ]
  }
 ],
 "metadata": {
  "colab": {
   "provenance": []
  },
  "kernelspec": {
   "display_name": "Python 3",
   "name": "python3"
  },
  "language_info": {
   "codemirror_mode": {
    "name": "ipython",
    "version": 3
   },
   "file_extension": ".py",
   "mimetype": "text/x-python",
   "name": "python",
   "nbconvert_exporter": "python",
   "pygments_lexer": "ipython3",
   "version": "3.12.6"
  }
 },
 "nbformat": 4,
 "nbformat_minor": 0
}
